{
 "cells": [
  {
   "cell_type": "markdown",
   "id": "7ea78c7d",
   "metadata": {},
   "source": [
    "# Spam Comments Detection..."
   ]
  },
  {
   "cell_type": "markdown",
   "id": "b0a38b78",
   "metadata": {},
   "source": [
    "Detecting spam comments is the task of text classification in Machine Learning. Spam comments on social media platforms are the type of comments posted to redirect the user to another social media account, website or any piece of content.\n",
    "\n",
    "\n",
    "To detect spam comments with Machine Learning, we need labelled data of spam comments."
   ]
  },
  {
   "cell_type": "markdown",
   "id": "f6024200",
   "metadata": {},
   "source": [
    "##### Let’s start this task by importing the necessary Python libraries and the dataset:"
   ]
  },
  {
   "cell_type": "code",
   "execution_count": 1,
   "id": "0d5f39c7",
   "metadata": {},
   "outputs": [],
   "source": [
    "import pandas as pd\n",
    "import numpy as np\n",
    "import warnings\n",
    "warnings.filterwarnings('ignore')\n",
    "import matplotlib.pyplot as plt\n",
    "from sklearn.model_selection import train_test_split\n",
    "from sklearn.naive_bayes import BernoulliNB\n",
    "from sklearn.feature_extraction.text import CountVectorizer"
   ]
  },
  {
   "cell_type": "code",
   "execution_count": 2,
   "id": "ad10ff04",
   "metadata": {},
   "outputs": [
    {
     "data": {
      "text/html": [
       "<div>\n",
       "<style scoped>\n",
       "    .dataframe tbody tr th:only-of-type {\n",
       "        vertical-align: middle;\n",
       "    }\n",
       "\n",
       "    .dataframe tbody tr th {\n",
       "        vertical-align: top;\n",
       "    }\n",
       "\n",
       "    .dataframe thead th {\n",
       "        text-align: right;\n",
       "    }\n",
       "</style>\n",
       "<table border=\"1\" class=\"dataframe\">\n",
       "  <thead>\n",
       "    <tr style=\"text-align: right;\">\n",
       "      <th></th>\n",
       "      <th>COMMENT_ID</th>\n",
       "      <th>AUTHOR</th>\n",
       "      <th>DATE</th>\n",
       "      <th>CONTENT</th>\n",
       "      <th>CLASS</th>\n",
       "    </tr>\n",
       "  </thead>\n",
       "  <tbody>\n",
       "    <tr>\n",
       "      <th>10</th>\n",
       "      <td>z13auhww3oufjn1qo04ci3grqqjmfjexxuo0k</td>\n",
       "      <td>Huckyduck</td>\n",
       "      <td>2013-11-28T17:06:17</td>\n",
       "      <td>Hey subscribe to me﻿</td>\n",
       "      <td>1</td>\n",
       "    </tr>\n",
       "    <tr>\n",
       "      <th>11</th>\n",
       "      <td>z13xit5agm2zyh4f523rst2gowmbx5bml</td>\n",
       "      <td>Lone Twistt</td>\n",
       "      <td>2013-11-28T17:34:55</td>\n",
       "      <td>Once you have started reading do not stop. If...</td>\n",
       "      <td>1</td>\n",
       "    </tr>\n",
       "    <tr>\n",
       "      <th>12</th>\n",
       "      <td>z13pejoiuozwxtdu323dspopnri4xts0f</td>\n",
       "      <td>Archie Lewis</td>\n",
       "      <td>2013-11-28T17:54:39</td>\n",
       "      <td>https://twitter.com/GBphotographyGB﻿</td>\n",
       "      <td>1</td>\n",
       "    </tr>\n",
       "    <tr>\n",
       "      <th>13</th>\n",
       "      <td>z121zxaxsq25z5k5o04ch1o5jqqfij3gtm40k</td>\n",
       "      <td>TheUploadaddict</td>\n",
       "      <td>2013-11-28T18:12:12</td>\n",
       "      <td>subscribe like comment﻿</td>\n",
       "      <td>1</td>\n",
       "    </tr>\n",
       "    <tr>\n",
       "      <th>14</th>\n",
       "      <td>z12oglnpoq3gjh4om04cfdlbgp2uepyytpw0k</td>\n",
       "      <td>Francisco Nora</td>\n",
       "      <td>2013-11-28T19:52:35</td>\n",
       "      <td>please like :D https://premium.easypromosapp.c...</td>\n",
       "      <td>1</td>\n",
       "    </tr>\n",
       "    <tr>\n",
       "      <th>15</th>\n",
       "      <td>z13phrmwrkfisn5er22eyrbpbvaiwfvwf04</td>\n",
       "      <td>Gaming and Stuff PRO</td>\n",
       "      <td>2013-11-28T21:14:13</td>\n",
       "      <td>Hello! Do you like gaming, art videos, scienti...</td>\n",
       "      <td>1</td>\n",
       "    </tr>\n",
       "    <tr>\n",
       "      <th>16</th>\n",
       "      <td>z13bgdvyluihfv11i22rgxwhuvabzz1os04</td>\n",
       "      <td>Zielimeek21</td>\n",
       "      <td>2013-11-28T21:49:00</td>\n",
       "      <td>I'm only checking the views﻿</td>\n",
       "      <td>0</td>\n",
       "    </tr>\n",
       "    <tr>\n",
       "      <th>17</th>\n",
       "      <td>z13vxpnoxsyeuv2jr04cctprprb1slnxdf4</td>\n",
       "      <td>OutrightIgnite</td>\n",
       "      <td>2013-11-28T21:55:02</td>\n",
       "      <td>http://www.ebay.com/itm/171183229277?ssPageNam...</td>\n",
       "      <td>1</td>\n",
       "    </tr>\n",
       "    <tr>\n",
       "      <th>18</th>\n",
       "      <td>z12qth5j0ob1fx3q404chvy4fz32tbkpllk0k</td>\n",
       "      <td>Tony K Frazier</td>\n",
       "      <td>2013-11-28T23:57:13</td>\n",
       "      <td>http://ubuntuone.com/40beUutVu2ZKxK4uTgPZ8K﻿</td>\n",
       "      <td>1</td>\n",
       "    </tr>\n",
       "    <tr>\n",
       "      <th>19</th>\n",
       "      <td>z13etj0bclzfztuwc04cgfvrgmf3fvjor1g</td>\n",
       "      <td>Jose Renteria</td>\n",
       "      <td>2013-11-29T00:22:01</td>\n",
       "      <td>We are an EDM apparel company dedicated to bri...</td>\n",
       "      <td>1</td>\n",
       "    </tr>\n",
       "    <tr>\n",
       "      <th>20</th>\n",
       "      <td>z12axnji5w2axxht522thb3bktvqjdlbp04</td>\n",
       "      <td>zhichao wang</td>\n",
       "      <td>2013-11-29T02:13:56</td>\n",
       "      <td>i think about 100 millions of the views come f...</td>\n",
       "      <td>0</td>\n",
       "    </tr>\n",
       "    <tr>\n",
       "      <th>21</th>\n",
       "      <td>z13ozdmr4lf3uzc5z04cix2zkyjzgvcyemw0k</td>\n",
       "      <td>Carlos Thegamer</td>\n",
       "      <td>2013-12-01T01:20:21</td>\n",
       "      <td>subscribe to my channel people :D﻿</td>\n",
       "      <td>1</td>\n",
       "    </tr>\n",
       "    <tr>\n",
       "      <th>22</th>\n",
       "      <td>z12ohdxjtsatvppjb04cctprprb1slnxdf4</td>\n",
       "      <td>OutrightIgnite</td>\n",
       "      <td>2013-12-01T03:30:55</td>\n",
       "      <td>Show your AUBURN PRIDE HERE: http://www.teespr...</td>\n",
       "      <td>1</td>\n",
       "    </tr>\n",
       "    <tr>\n",
       "      <th>23</th>\n",
       "      <td>z12ntlcqht2bvjewi04cf1up0xjvs5lq3mc0k</td>\n",
       "      <td>Owen Lai</td>\n",
       "      <td>2013-12-01T04:51:52</td>\n",
       "      <td>just checking the views﻿</td>\n",
       "      <td>0</td>\n",
       "    </tr>\n",
       "    <tr>\n",
       "      <th>24</th>\n",
       "      <td>LZQPQhLyRh9EXArr4ZnVcDonSbvSMHKYOT24e_qR6fE</td>\n",
       "      <td>||GuitarZ||</td>\n",
       "      <td>2013-12-23T12:54:38</td>\n",
       "      <td>CHECK OUT MY CHANNEL</td>\n",
       "      <td>1</td>\n",
       "    </tr>\n",
       "  </tbody>\n",
       "</table>\n",
       "</div>"
      ],
      "text/plain": [
       "                                     COMMENT_ID                AUTHOR  \\\n",
       "10        z13auhww3oufjn1qo04ci3grqqjmfjexxuo0k             Huckyduck   \n",
       "11            z13xit5agm2zyh4f523rst2gowmbx5bml           Lone Twistt   \n",
       "12            z13pejoiuozwxtdu323dspopnri4xts0f          Archie Lewis   \n",
       "13        z121zxaxsq25z5k5o04ch1o5jqqfij3gtm40k       TheUploadaddict   \n",
       "14        z12oglnpoq3gjh4om04cfdlbgp2uepyytpw0k        Francisco Nora   \n",
       "15          z13phrmwrkfisn5er22eyrbpbvaiwfvwf04  Gaming and Stuff PRO   \n",
       "16          z13bgdvyluihfv11i22rgxwhuvabzz1os04           Zielimeek21   \n",
       "17          z13vxpnoxsyeuv2jr04cctprprb1slnxdf4        OutrightIgnite   \n",
       "18        z12qth5j0ob1fx3q404chvy4fz32tbkpllk0k        Tony K Frazier   \n",
       "19          z13etj0bclzfztuwc04cgfvrgmf3fvjor1g         Jose Renteria   \n",
       "20          z12axnji5w2axxht522thb3bktvqjdlbp04          zhichao wang   \n",
       "21        z13ozdmr4lf3uzc5z04cix2zkyjzgvcyemw0k       Carlos Thegamer   \n",
       "22          z12ohdxjtsatvppjb04cctprprb1slnxdf4        OutrightIgnite   \n",
       "23        z12ntlcqht2bvjewi04cf1up0xjvs5lq3mc0k              Owen Lai   \n",
       "24  LZQPQhLyRh9EXArr4ZnVcDonSbvSMHKYOT24e_qR6fE           ||GuitarZ||   \n",
       "\n",
       "                   DATE                                            CONTENT  \\\n",
       "10  2013-11-28T17:06:17                               Hey subscribe to me﻿   \n",
       "11  2013-11-28T17:34:55   Once you have started reading do not stop. If...   \n",
       "12  2013-11-28T17:54:39               https://twitter.com/GBphotographyGB﻿   \n",
       "13  2013-11-28T18:12:12                            subscribe like comment﻿   \n",
       "14  2013-11-28T19:52:35  please like :D https://premium.easypromosapp.c...   \n",
       "15  2013-11-28T21:14:13  Hello! Do you like gaming, art videos, scienti...   \n",
       "16  2013-11-28T21:49:00                       I'm only checking the views﻿   \n",
       "17  2013-11-28T21:55:02  http://www.ebay.com/itm/171183229277?ssPageNam...   \n",
       "18  2013-11-28T23:57:13       http://ubuntuone.com/40beUutVu2ZKxK4uTgPZ8K﻿   \n",
       "19  2013-11-29T00:22:01  We are an EDM apparel company dedicated to bri...   \n",
       "20  2013-11-29T02:13:56  i think about 100 millions of the views come f...   \n",
       "21  2013-12-01T01:20:21                 subscribe to my channel people :D﻿   \n",
       "22  2013-12-01T03:30:55  Show your AUBURN PRIDE HERE: http://www.teespr...   \n",
       "23  2013-12-01T04:51:52                           just checking the views﻿   \n",
       "24  2013-12-23T12:54:38                               CHECK OUT MY CHANNEL   \n",
       "\n",
       "    CLASS  \n",
       "10      1  \n",
       "11      1  \n",
       "12      1  \n",
       "13      1  \n",
       "14      1  \n",
       "15      1  \n",
       "16      0  \n",
       "17      1  \n",
       "18      1  \n",
       "19      1  \n",
       "20      0  \n",
       "21      1  \n",
       "22      1  \n",
       "23      0  \n",
       "24      1  "
      ]
     },
     "execution_count": 2,
     "metadata": {},
     "output_type": "execute_result"
    }
   ],
   "source": [
    "df = pd.read_csv('Youtube_Psy.csv',sep = ',')\n",
    "df[10:25]"
   ]
  },
  {
   "cell_type": "code",
   "execution_count": 3,
   "id": "6e480a80",
   "metadata": {},
   "outputs": [
    {
     "data": {
      "text/plain": [
       "(350, 5)"
      ]
     },
     "execution_count": 3,
     "metadata": {},
     "output_type": "execute_result"
    }
   ],
   "source": [
    "df.shape"
   ]
  },
  {
   "cell_type": "code",
   "execution_count": 4,
   "id": "64a59d00",
   "metadata": {},
   "outputs": [
    {
     "name": "stdout",
     "output_type": "stream",
     "text": [
      "<class 'pandas.core.frame.DataFrame'>\n",
      "RangeIndex: 350 entries, 0 to 349\n",
      "Data columns (total 5 columns):\n",
      " #   Column      Non-Null Count  Dtype \n",
      "---  ------      --------------  ----- \n",
      " 0   COMMENT_ID  350 non-null    object\n",
      " 1   AUTHOR      350 non-null    object\n",
      " 2   DATE        350 non-null    object\n",
      " 3   CONTENT     350 non-null    object\n",
      " 4   CLASS       350 non-null    int64 \n",
      "dtypes: int64(1), object(4)\n",
      "memory usage: 13.8+ KB\n"
     ]
    }
   ],
   "source": [
    "df.info()"
   ]
  },
  {
   "cell_type": "code",
   "execution_count": 5,
   "id": "82aa527e",
   "metadata": {},
   "outputs": [
    {
     "data": {
      "text/plain": [
       "COMMENT_ID    0\n",
       "AUTHOR        0\n",
       "DATE          0\n",
       "CONTENT       0\n",
       "CLASS         0\n",
       "dtype: int64"
      ]
     },
     "execution_count": 5,
     "metadata": {},
     "output_type": "execute_result"
    }
   ],
   "source": [
    "df.isna().sum()"
   ]
  },
  {
   "cell_type": "markdown",
   "id": "e6ce35e6",
   "metadata": {},
   "source": [
    "##### We only need the content and class column from the dataset for the rest of the task. So let’s select both the columns and move further:"
   ]
  },
  {
   "cell_type": "code",
   "execution_count": 6,
   "id": "e754cf51",
   "metadata": {},
   "outputs": [
    {
     "data": {
      "text/html": [
       "<div>\n",
       "<style scoped>\n",
       "    .dataframe tbody tr th:only-of-type {\n",
       "        vertical-align: middle;\n",
       "    }\n",
       "\n",
       "    .dataframe tbody tr th {\n",
       "        vertical-align: top;\n",
       "    }\n",
       "\n",
       "    .dataframe thead th {\n",
       "        text-align: right;\n",
       "    }\n",
       "</style>\n",
       "<table border=\"1\" class=\"dataframe\">\n",
       "  <thead>\n",
       "    <tr style=\"text-align: right;\">\n",
       "      <th></th>\n",
       "      <th>CONTENT</th>\n",
       "      <th>CLASS</th>\n",
       "    </tr>\n",
       "  </thead>\n",
       "  <tbody>\n",
       "    <tr>\n",
       "      <th>184</th>\n",
       "      <td>OPPA &amp;lt;3﻿</td>\n",
       "      <td>0</td>\n",
       "    </tr>\n",
       "    <tr>\n",
       "      <th>116</th>\n",
       "      <td>Made in china....﻿</td>\n",
       "      <td>0</td>\n",
       "    </tr>\n",
       "    <tr>\n",
       "      <th>265</th>\n",
       "      <td>9 year olds be like, 'How does this have 2 bil...</td>\n",
       "      <td>0</td>\n",
       "    </tr>\n",
       "    <tr>\n",
       "      <th>205</th>\n",
       "      <td>2.126.521.750  views!!!!!!!!!!!!!!!!!﻿</td>\n",
       "      <td>0</td>\n",
       "    </tr>\n",
       "    <tr>\n",
       "      <th>298</th>\n",
       "      <td>https://www.facebook.com/SchoolGeniusNITS/phot...</td>\n",
       "      <td>1</td>\n",
       "    </tr>\n",
       "    <tr>\n",
       "      <th>140</th>\n",
       "      <td>http://www.gcmforex.com/partners/aw.aspx?Task=...</td>\n",
       "      <td>1</td>\n",
       "    </tr>\n",
       "    <tr>\n",
       "      <th>198</th>\n",
       "      <td>OMG over 2 billion views!﻿</td>\n",
       "      <td>0</td>\n",
       "    </tr>\n",
       "    <tr>\n",
       "      <th>285</th>\n",
       "      <td>If I knew Korean, this would be even funnier. ...</td>\n",
       "      <td>0</td>\n",
       "    </tr>\n",
       "    <tr>\n",
       "      <th>222</th>\n",
       "      <td>Is this the video that started the whole \"got ...</td>\n",
       "      <td>0</td>\n",
       "    </tr>\n",
       "    <tr>\n",
       "      <th>19</th>\n",
       "      <td>We are an EDM apparel company dedicated to bri...</td>\n",
       "      <td>1</td>\n",
       "    </tr>\n",
       "  </tbody>\n",
       "</table>\n",
       "</div>"
      ],
      "text/plain": [
       "                                               CONTENT  CLASS\n",
       "184                                        OPPA &lt;3﻿      0\n",
       "116                                 Made in china....﻿      0\n",
       "265  9 year olds be like, 'How does this have 2 bil...      0\n",
       "205             2.126.521.750  views!!!!!!!!!!!!!!!!!﻿      0\n",
       "298  https://www.facebook.com/SchoolGeniusNITS/phot...      1\n",
       "140  http://www.gcmforex.com/partners/aw.aspx?Task=...      1\n",
       "198                         OMG over 2 billion views!﻿      0\n",
       "285  If I knew Korean, this would be even funnier. ...      0\n",
       "222  Is this the video that started the whole \"got ...      0\n",
       "19   We are an EDM apparel company dedicated to bri...      1"
      ]
     },
     "execution_count": 6,
     "metadata": {},
     "output_type": "execute_result"
    }
   ],
   "source": [
    "data = df[['CONTENT','CLASS']]\n",
    "data.sample(10)"
   ]
  },
  {
   "cell_type": "markdown",
   "id": "375cfe0a",
   "metadata": {},
   "source": [
    "##### The class column contains values 0 and 1. 0 indicates not spam, and 1 indicates spam. So to make it look better, I will use spam and not spam labels instead of 1 and 0:"
   ]
  },
  {
   "cell_type": "code",
   "execution_count": 7,
   "id": "f55d6613",
   "metadata": {},
   "outputs": [
    {
     "name": "stdout",
     "output_type": "stream",
     "text": [
      "                                               CONTENT         CLASS\n",
      "49   thumbs up if u checked this video to see hw vi...      Not Spam\n",
      "91   There is one video on my channel about my brot...  Spam Comment\n",
      "6                            Subscribe to my channel ﻿  Spam Comment\n",
      "114  Hey guys please check out my new Google+ page ...  Spam Comment\n",
      "212                                Still the best. :D﻿      Not Spam\n"
     ]
    }
   ],
   "source": [
    "data[\"CLASS\"] = data[\"CLASS\"].map({0: \"Not Spam\",\n",
    "                                   1: \"Spam Comment\"})\n",
    "print(data.sample(5))"
   ]
  },
  {
   "cell_type": "markdown",
   "id": "04f1d9a8",
   "metadata": {},
   "source": [
    "##### Training a Classification Model"
   ]
  },
  {
   "cell_type": "markdown",
   "id": "a2a52003",
   "metadata": {},
   "source": [
    "##### Now let’s move further by training a classification Machine Learning model to classify spam and not spam comments. As this problem is a problem of binary classification, I will use the Bernoulli Naive Bayes algorithm to train the model:\n",
    "\n"
   ]
  },
  {
   "cell_type": "code",
   "execution_count": 8,
   "id": "e72b2dbb",
   "metadata": {},
   "outputs": [],
   "source": [
    "x = np.array(data['CONTENT'])\n",
    "y = np.array(data['CLASS'])\n",
    "\n",
    "cv = CountVectorizer()\n",
    "x = cv.fit_transform(x)"
   ]
  },
  {
   "cell_type": "code",
   "execution_count": 9,
   "id": "26181db9",
   "metadata": {},
   "outputs": [],
   "source": [
    "x_train, x_test, y_train, y_test = train_test_split(x,y,test_size = 0.2,random_state = 42)"
   ]
  },
  {
   "cell_type": "code",
   "execution_count": 10,
   "id": "d01b13a3",
   "metadata": {},
   "outputs": [
    {
     "name": "stdout",
     "output_type": "stream",
     "text": [
      "0.9785714285714285\n"
     ]
    }
   ],
   "source": [
    "model = BernoulliNB()\n",
    "model.fit(x_train,y_train)\n",
    "print(model.score(x_train,y_train))"
   ]
  },
  {
   "cell_type": "markdown",
   "id": "9d6e5843",
   "metadata": {},
   "source": [
    "##### Now let’s test the model by giving spam and not spam comments as input:"
   ]
  },
  {
   "cell_type": "code",
   "execution_count": 11,
   "id": "1ba7ed53",
   "metadata": {},
   "outputs": [
    {
     "name": "stdout",
     "output_type": "stream",
     "text": [
      "['Spam Comment']\n"
     ]
    }
   ],
   "source": [
    "sample = \"Check this out: https://thecleverprogrammer.com/\"\n",
    "data = cv.transform([sample]).toarray()\n",
    "print(model.predict(data))"
   ]
  },
  {
   "cell_type": "code",
   "execution_count": 12,
   "id": "75ce5609",
   "metadata": {},
   "outputs": [
    {
     "name": "stdout",
     "output_type": "stream",
     "text": [
      "['Spam Comment']\n"
     ]
    }
   ],
   "source": [
    "sample = 'http://woobox.com/33gxrf/brt0u5 FREE CS GO!!!!﻿'\n",
    "data = cv.transform([sample]).toarray()\n",
    "print(model.predict(data))"
   ]
  },
  {
   "cell_type": "code",
   "execution_count": 13,
   "id": "0607bf7c",
   "metadata": {},
   "outputs": [
    {
     "name": "stdout",
     "output_type": "stream",
     "text": [
      "['Not Spam']\n"
     ]
    }
   ],
   "source": [
    "sample = 'just checking the views﻿'\n",
    "data = cv.transform([sample]).toarray()\n",
    "print(model.predict(data))"
   ]
  },
  {
   "cell_type": "markdown",
   "id": "1bd91a9f",
   "metadata": {},
   "source": [
    "#### So this is how you can train a Machine Learning model for the task of spam detection using Python."
   ]
  },
  {
   "cell_type": "markdown",
   "id": "f833fbb8",
   "metadata": {},
   "source": [
    "##### Summary\n",
    "Spam comments detection means classifying comments as spam or not spam. Spam comments on social media platforms are the type of comments posted to redirect the user to another social media account, website or any piece of content."
   ]
  },
  {
   "cell_type": "code",
   "execution_count": null,
   "id": "08c434f7",
   "metadata": {},
   "outputs": [],
   "source": []
  }
 ],
 "metadata": {
  "kernelspec": {
   "display_name": "Python 3 (ipykernel)",
   "language": "python",
   "name": "python3"
  },
  "language_info": {
   "codemirror_mode": {
    "name": "ipython",
    "version": 3
   },
   "file_extension": ".py",
   "mimetype": "text/x-python",
   "name": "python",
   "nbconvert_exporter": "python",
   "pygments_lexer": "ipython3",
   "version": "3.9.12"
  }
 },
 "nbformat": 4,
 "nbformat_minor": 5
}
